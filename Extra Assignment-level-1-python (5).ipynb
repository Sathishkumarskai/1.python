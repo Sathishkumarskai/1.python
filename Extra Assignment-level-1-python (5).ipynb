{
 "cells": [
  {
   "cell_type": "code",
   "execution_count": 1,
   "id": "d7788302-83a9-4a41-b09f-672269a96a5b",
   "metadata": {},
   "outputs": [
    {
     "name": "stdout",
     "output_type": "stream",
     "text": [
      "HOPE AI\n"
     ]
    }
   ],
   "source": [
    "print(\"HOPE AI\")"
   ]
  },
  {
   "cell_type": "code",
   "execution_count": null,
   "id": "a81918e8-4d62-42a9-85f7-98fd6912d0eb",
   "metadata": {},
   "outputs": [],
   "source": [
    "# ADDTION"
   ]
  },
  {
   "cell_type": "code",
   "execution_count": 6,
   "id": "06e265a9-7a3a-49f4-839d-ce5d2257ad20",
   "metadata": {},
   "outputs": [
    {
     "name": "stdout",
     "output_type": "stream",
     "text": [
      "77\n"
     ]
    }
   ],
   "source": [
    "a=43\n",
    "b=34\n",
    "add=43+34\n",
    "print(add)"
   ]
  },
  {
   "cell_type": "code",
   "execution_count": null,
   "id": "b9be3bed-ba0f-4bc1-b4c6-109992e67dcc",
   "metadata": {},
   "outputs": [],
   "source": [
    "# Subtraction"
   ]
  },
  {
   "cell_type": "code",
   "execution_count": 7,
   "id": "56d923eb-8ffe-4eb0-abb0-1e4c60d2995a",
   "metadata": {},
   "outputs": [
    {
     "name": "stdout",
     "output_type": "stream",
     "text": [
      "9\n"
     ]
    }
   ],
   "source": [
    "a=43\n",
    "b=34\n",
    "sub=43-34\n",
    "print(sub)"
   ]
  },
  {
   "cell_type": "code",
   "execution_count": 8,
   "id": "6073dcc4-55b9-4be3-b3b7-fd065cd4f216",
   "metadata": {},
   "outputs": [],
   "source": [
    " #Multiplication"
   ]
  },
  {
   "cell_type": "code",
   "execution_count": 11,
   "id": "6bb9a5ca-69b0-4c4e-83c9-b9eb1bce1b89",
   "metadata": {},
   "outputs": [
    {
     "name": "stdout",
     "output_type": "stream",
     "text": [
      "1462\n"
     ]
    }
   ],
   "source": [
    "a=43\n",
    "b=34\n",
    "mul=a*b\n",
    "print(mul)"
   ]
  },
  {
   "cell_type": "code",
   "execution_count": 12,
   "id": "c8e31ecb-7310-422e-841f-ad55ca002c2d",
   "metadata": {},
   "outputs": [],
   "source": [
    "#Division"
   ]
  },
  {
   "cell_type": "code",
   "execution_count": 21,
   "id": "bd37a231-387f-4fdb-bc44-5ba2579b21cf",
   "metadata": {},
   "outputs": [
    {
     "name": "stdout",
     "output_type": "stream",
     "text": [
      "2.4516129032258065\n"
     ]
    }
   ],
   "source": [
    "a=76\n",
    "b=31\n",
    "div=a/b\n",
    "print(div)"
   ]
  },
  {
   "cell_type": "code",
   "execution_count": 15,
   "id": "9998d543-53ae-429a-a972-4711794d9f9c",
   "metadata": {},
   "outputs": [],
   "source": [
    "#floor Division"
   ]
  },
  {
   "cell_type": "code",
   "execution_count": 20,
   "id": "612839ff-4c2f-4c76-bbc8-4bcba27dea28",
   "metadata": {},
   "outputs": [
    {
     "name": "stdout",
     "output_type": "stream",
     "text": [
      "2\n"
     ]
    }
   ],
   "source": [
    "a=76\n",
    "b=31\n",
    "div=a//b\n",
    "print(div)"
   ]
  },
  {
   "cell_type": "code",
   "execution_count": 17,
   "id": "c4aa1c1f-b15c-41ce-9f78-80bbb159b14a",
   "metadata": {},
   "outputs": [],
   "source": [
    "#Modulo"
   ]
  },
  {
   "cell_type": "code",
   "execution_count": 19,
   "id": "4622929d-785f-4e53-903a-3420858fd148",
   "metadata": {},
   "outputs": [
    {
     "name": "stdout",
     "output_type": "stream",
     "text": [
      "14\n"
     ]
    }
   ],
   "source": [
    "a=76\n",
    "b=31\n",
    "modulo=a%b\n",
    "print(modulo)"
   ]
  },
  {
   "cell_type": "code",
   "execution_count": 22,
   "id": "a37177cf-fc3b-48f9-bf74-c8b449e35425",
   "metadata": {},
   "outputs": [],
   "source": [
    "#power"
   ]
  },
  {
   "cell_type": "code",
   "execution_count": 23,
   "id": "aa0bf272-28ff-495c-9d33-2edd192fca9a",
   "metadata": {},
   "outputs": [
    {
     "name": "stdout",
     "output_type": "stream",
     "text": [
      "256\n"
     ]
    }
   ],
   "source": [
    "a=4\n",
    "b=4\n",
    "power=a**b\n",
    "print(power)"
   ]
  },
  {
   "cell_type": "code",
   "execution_count": null,
   "id": "3977eae4-68c1-4492-9f7c-e20f46ff6902",
   "metadata": {},
   "outputs": [],
   "source": [
    "# BUY INPUT"
   ]
  },
  {
   "cell_type": "code",
   "execution_count": 6,
   "id": "82c806b5-99a3-4977-95de-75585bf235d1",
   "metadata": {},
   "outputs": [
    {
     "name": "stdin",
     "output_type": "stream",
     "text": [
      "enter the name: sathish\n",
      "enter you age: 25\n",
      "enter your school name: drbccc school \n",
      "enter you degree: b.com\n"
     ]
    }
   ],
   "source": [
    "num1=input(\"enter the name:\")\n",
    "num2=int(input(\"enter you age:\"))\n",
    "num3=input(\"enter your school name:\")\n",
    "num4=input(\"enter you degree:\")"
   ]
  },
  {
   "cell_type": "code",
   "execution_count": 10,
   "id": "a8bb49cf-8b30-4522-bc47-ea006ae6c843",
   "metadata": {},
   "outputs": [
    {
     "name": "stdout",
     "output_type": "stream",
     "text": [
      "enter the name : sathish \n",
      "enter you age : 25\n",
      "enter your school name: drbcc school\n",
      "enter you degree: b.com\n"
     ]
    }
   ],
   "source": [
    "print(\"enter the name : sathish \")\n",
    "print(\"enter you age : 25\")\n",
    "print(\"enter your school name: drbcc school\")\n",
    "print(\"enter you degree: b.com\")"
   ]
  },
  {
   "cell_type": "code",
   "execution_count": null,
   "id": "5310bd03-3055-414c-bc5f-c924b8702a21",
   "metadata": {},
   "outputs": [],
   "source": []
  },
  {
   "cell_type": "code",
   "execution_count": null,
   "id": "3c32dd16-253b-44e7-9d0d-998a8ed3b082",
   "metadata": {},
   "outputs": [],
   "source": []
  }
 ],
 "metadata": {
  "kernelspec": {
   "display_name": "Python 3 (ipykernel)",
   "language": "python",
   "name": "python3"
  },
  "language_info": {
   "codemirror_mode": {
    "name": "ipython",
    "version": 3
   },
   "file_extension": ".py",
   "mimetype": "text/x-python",
   "name": "python",
   "nbconvert_exporter": "python",
   "pygments_lexer": "ipython3",
   "version": "3.12.7"
  }
 },
 "nbformat": 4,
 "nbformat_minor": 5
}
