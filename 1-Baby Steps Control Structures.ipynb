{
 "cells": [
  {
   "cell_type": "code",
   "execution_count": 1,
   "id": "22c641d2-cdd1-4e88-913c-caf6255d2f5a",
   "metadata": {},
   "outputs": [
    {
     "name": "stdout",
     "output_type": "stream",
     "text": [
      "welocome to assigment-1\n"
     ]
    }
   ],
   "source": [
    "print(\"welocome to assigment-1\")"
   ]
  },
  {
   "cell_type": "code",
   "execution_count": 3,
   "id": "8a4cbc48-0ae0-4b46-afb3-c6716ec80e60",
   "metadata": {},
   "outputs": [
    {
     "name": "stdout",
     "output_type": "stream",
     "text": [
      "30\n"
     ]
    }
   ],
   "source": [
    "num1=10\n",
    "num2=20\n",
    "add=num1+num2\n",
    "print(add)"
   ]
  },
  {
   "cell_type": "code",
   "execution_count": 8,
   "id": "2a8628fd-7971-4a49-b99b-7bf6bcc35eac",
   "metadata": {},
   "outputs": [
    {
     "name": "stdin",
     "output_type": "stream",
     "text": [
      "enter the bmi intex: 3\n"
     ]
    }
   ],
   "source": [
    "weight=int(input(\"enter the bmi intex:\"))"
   ]
  },
  {
   "cell_type": "code",
   "execution_count": 9,
   "id": "b65d035c-8a82-4c00-b920-a705ca3e4be8",
   "metadata": {},
   "outputs": [
    {
     "name": "stdout",
     "output_type": "stream",
     "text": [
      "under weight\n"
     ]
    }
   ],
   "source": [
    "if(weight<18.5):\n",
    "    print(\"under weight\")\n",
    "elif(weight<24.9):\n",
    "    print(\"normal weight\")\n",
    "elif(weight<29.9):\n",
    "    print(\"over weight\")\n",
    "elif(weight<35.0):\n",
    "    print(\"obese weight\")\n",
    "else:\n",
    "    print(\"extremriy obese\")"
   ]
  },
  {
   "cell_type": "code",
   "execution_count": 10,
   "id": "a188e3bd-4fc8-4ce1-8e64-27476673314e",
   "metadata": {},
   "outputs": [],
   "source": [
    "lists=[16,34,55,23,55,77]"
   ]
  },
  {
   "cell_type": "code",
   "execution_count": 12,
   "id": "dc130483-1a30-4f91-911e-e2feb8b91363",
   "metadata": {},
   "outputs": [
    {
     "name": "stdout",
     "output_type": "stream",
     "text": [
      "under weight\n",
      "obese weight\n",
      "extremriy obese\n",
      "normal weight\n",
      "extremriy obese\n",
      "extremriy obese\n"
     ]
    }
   ],
   "source": [
    "for weight in lists:\n",
    "    if(weight<18.5):\n",
    "       print(\"under weight\")\n",
    "    elif(weight<24.9):\n",
    "       print(\"normal weight\")\n",
    "    elif(weight<29.9):\n",
    "       print(\"over weight\")\n",
    "    elif(weight<35.0):\n",
    "       print(\"obese weight\")\n",
    "    else:\n",
    "       print(\"extremriy obese\")"
   ]
  },
  {
   "cell_type": "code",
   "execution_count": null,
   "id": "c699b283-8333-4846-86df-924667ad5484",
   "metadata": {},
   "outputs": [],
   "source": []
  }
 ],
 "metadata": {
  "kernelspec": {
   "display_name": "Python 3 (ipykernel)",
   "language": "python",
   "name": "python3"
  },
  "language_info": {
   "codemirror_mode": {
    "name": "ipython",
    "version": 3
   },
   "file_extension": ".py",
   "mimetype": "text/x-python",
   "name": "python",
   "nbconvert_exporter": "python",
   "pygments_lexer": "ipython3",
   "version": "3.12.7"
  }
 },
 "nbformat": 4,
 "nbformat_minor": 5
}
